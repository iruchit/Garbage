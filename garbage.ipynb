{
 "cells": [
  {
   "cell_type": "markdown",
   "metadata": {},
   "source": [
    "# Garbage Calender"
   ]
  },
  {
   "cell_type": "code",
   "execution_count": 2,
   "metadata": {},
   "outputs": [
    {
     "name": "stdout",
     "output_type": "stream",
     "text": [
      "---------previous-------\n",
      "Name : Neel, Date : 2021-04-26 00:00:00\n",
      "Name : Priyank, Date : 2021-05-03 00:00:00\n",
      "Name : Riken, Date : 2021-05-10 00:00:00\n",
      "---------next-------\n",
      "next : Ruchit, Date : 2021-05-17 00:00:00\n",
      "---------coming soon-------\n",
      "Name : Tejas, Date : 2021-05-24 00:00:00\n",
      "Name : Vikas, Date : 2021-05-31 00:00:00\n",
      "Name : Devang, Date : 2021-06-07 00:00:00\n"
     ]
    }
   ],
   "source": [
    "import datetime\n",
    "lst = [\"Devang\", \"Neel\", \"Priyank\", \"Riken\", \"Ruchit\", \"Tejas\", \"Vikas\"]\n",
    "\n",
    "dates_dict = {}\n",
    "\n",
    "previousby_dict = {}\n",
    "\n",
    "dates_dict1 = {}\n",
    "start = datetime.datetime(2021, 4, 12)\n",
    "startdate = datetime.datetime(2021, 4, 12)\n",
    "r=1\n",
    "while startdate < datetime.datetime.now():\n",
    "    dates_dict1[r] = startdate\n",
    "    startdate = startdate + datetime.timedelta(days=7)\n",
    "    r = r+1\n",
    "#print(dates_dict1)\n",
    "#print(len(dates_dict1))\n",
    "\n",
    "next = lst[len(dates_dict1)%len(lst)-1]\n",
    "#print(f'next : {next}, Date : {startdate}')\n",
    "\n",
    "lst3=[2,1,0]\n",
    "previous = startdate\n",
    "pre_name=len(dates_dict1)%len(lst)-2\n",
    "next_name = len(dates_dict1)%len(lst)\n",
    "\n",
    "pre3 = []\n",
    "nxt3 = []\n",
    "for i in lst3:\n",
    "    if pre_name==-1:\n",
    "        pre_name=6\n",
    "    previous = previous - datetime.timedelta(days=7)\n",
    "    pre3.append(f\"Name : {lst[pre_name]}, Date : {previous}\")\n",
    "    pre_name = pre_name-1\n",
    "    \n",
    "next_date = startdate\n",
    "for i in lst3:\n",
    "    if next_name==7:\n",
    "        next_name=0\n",
    "    next_date = next_date + datetime.timedelta(days=7)\n",
    "    nxt3.append(f'Name : {lst[next_name]}, Date : {next_date}')\n",
    "    next_name = next_name+1\n",
    "    \n",
    "print(\"---------previous-------\")\n",
    "for i in lst3:\n",
    "    print(pre3[i])\n",
    "\n",
    "print(\"---------next-------\")\n",
    "print(f'next : {next}, Date : {startdate}')\n",
    "print(\"---------coming soon-------\")\n",
    "for i in [0,1,2]:\n",
    "    print(nxt3[i])"
   ]
  }
 ],
 "metadata": {
  "kernelspec": {
   "display_name": "Python 3",
   "language": "python",
   "name": "python3"
  },
  "language_info": {
   "codemirror_mode": {
    "name": "ipython",
    "version": 3
   },
   "file_extension": ".py",
   "mimetype": "text/x-python",
   "name": "python",
   "nbconvert_exporter": "python",
   "pygments_lexer": "ipython3",
   "version": "3.8.5"
  }
 },
 "nbformat": 4,
 "nbformat_minor": 4
}
